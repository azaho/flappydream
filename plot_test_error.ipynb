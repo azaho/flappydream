{
 "cells": [
  {
   "cell_type": "code",
   "execution_count": 80,
   "id": "5e4f2c6e-7149-4632-b68a-5ef0f4d728ad",
   "metadata": {},
   "outputs": [],
   "source": [
    "import rnn, vae, config\n",
    "import torch\n",
    "import numpy as np\n",
    "import matplotlib.pyplot as plt\n",
    "import train_rnn\n",
    "import train_vae\n",
    "import json\n",
    "import os\n",
    "\n",
    "dim_latent_z = 8"
   ]
  },
  {
   "cell_type": "markdown",
   "id": "ca130c8c-686c-478b-9bb6-4e0e8a58649d",
   "metadata": {},
   "source": [
    "# Step 1: preprocessing the test rollouts with VAE"
   ]
  },
  {
   "cell_type": "code",
   "execution_count": 9,
   "id": "85319355-0e16-4f40-8d0f-06408b6c2976",
   "metadata": {},
   "outputs": [],
   "source": [
    "### Preprocessing the test rollouts with VAE\n",
    "\n",
    "# training VAE\n",
    "vae_model = vae.VAE(latent_dim=dim_latent_z).to(config.device)\n",
    "vae_model.load_state_dict(torch.load(f\"data/vae_model_{dim_latent_z}dimlatent.pt\", map_location=config.device))\n",
    "\n",
    "filenames = [f\"data/rollouts_2000_dqn_100.npz\"]\n",
    "lidar_store = train_vae.load_data(filenames)\n",
    "train_vae.save_processed_observations(vae_model, lidar_store, f\"data/vae_preprocessed_{config.vae_latent_dim}dimlatent_test_dqn.npz\")\n",
    "train_vae.save_processed_environmental_variables(filenames, f\"data/vae_rollouts_env_vars_test_dqn.npz\")\n",
    "\n",
    "filenames = [f\"data/rollouts_2000_random_100.npz\"]\n",
    "lidar_store = train_vae.load_data(filenames)\n",
    "train_vae.save_processed_observations(vae_model, lidar_store, f\"data/vae_preprocessed_{config.vae_latent_dim}dimlatent_test_random.npz\")\n",
    "train_vae.save_processed_environmental_variables(filenames, f\"data/vae_rollouts_env_vars_test_random.npz\")"
   ]
  },
  {
   "cell_type": "markdown",
   "id": "2f0b1ca8-e53e-43cd-a28e-8a1cdf6c074b",
   "metadata": {},
   "source": [
    "# Step 2: Loading Example Model"
   ]
  },
  {
   "cell_type": "code",
   "execution_count": 28,
   "id": "24465ff6-bd6d-42ce-963e-27c66482139b",
   "metadata": {},
   "outputs": [],
   "source": [
    "random_index = 22\n",
    "lambda_sv = 64.0\n",
    "state_vars_to_predict = [9, 10, 11]\n",
    "detach_gradients = False\n",
    "use_layernorm = False\n",
    "truncate_at_batch = 40\n",
    "n_hidden = 128\n",
    "train_epochs = 250\n",
    "save_every_epochs = 50\n",
    "max_gradient_norm = 100.0\n",
    "lr = 0.001\n",
    "random_index = random_index\n",
    "lambda_sv = lambda_sv\n",
    "epoch = 500\n",
    "\n",
    "sv_str = 'x'.join([str(x) for x in state_vars_to_predict]) if len(state_vars_to_predict) > 0 else 'X'\n",
    "rnn_id = f\"_ln{1 if use_layernorm else 0}_nh{n_hidden}_dlz{dim_latent_z}_mgn{max_gradient_norm}_lr{lr}\" + \\\n",
    "         f\"_dg{1 if detach_gradients else 0}_da{truncate_at_batch}_sv{sv_str}_lsv{lambda_sv}_r{random_index}\"\n",
    "\n",
    "vae_model = vae.VAE(latent_dim=dim_latent_z).to(config.device)\n",
    "vae_model.load_state_dict(torch.load(f\"data/vae_model_{dim_latent_z}dimlatent.pt\", map_location=config.device))\n",
    "\n",
    "rnn_model = rnn.MDNRNN(dim_latent_z, state_vars_to_predict=state_vars_to_predict, use_layernorm=use_layernorm).to(config.device)\n",
    "rnn_model.load_state_dict(torch.load(f'data/rnn{rnn_id}/rnn_model_epoch{epoch}.pt', map_location=config.device))\n",
    "n_gaussians = rnn_model.n_gaussians"
   ]
  },
  {
   "cell_type": "code",
   "execution_count": 5,
   "id": "91c27321-8511-47b4-84fb-71dae924382c",
   "metadata": {},
   "outputs": [],
   "source": [
    "def load_data(suffix=\"\", length_cutoff=301):\n",
    "    batch_size = 256\n",
    "    n_batches, mean_batches, var_batches, state_vars_batches, \\\n",
    "        action_batches, mask_batches, end_flag_batches = \\\n",
    "        train_rnn.load_data(f'data/vae_preprocessed_{dim_latent_z}dimlatent{suffix}.npz', \n",
    "                                            f'data/vae_rollouts_env_vars{suffix}.npz', batch_size = batch_size,\n",
    "                           truncate_at_batch=None)\n",
    "    episode_len = ([torch.nonzero(end_flags)[:, 1] for end_flags in end_flag_batches])\n",
    "    filtered_episodes = []\n",
    "    for i in range(len(episode_len)):\n",
    "        for j in range(len(episode_len[i])):\n",
    "            if episode_len[i][j] >= length_cutoff:\n",
    "                episode_data = {\n",
    "                    'mean': mean_batches[i][j, :length_cutoff, :],\n",
    "                    'var': var_batches[i][j, :length_cutoff, :],\n",
    "                    'state_vars': state_vars_batches[i][j, :length_cutoff, :],\n",
    "                    'action': action_batches[i][j, :length_cutoff, :],\n",
    "                    'mask': mask_batches[i][j, :length_cutoff],\n",
    "                    'end_flag': end_flag_batches[i][j, :length_cutoff, :],\n",
    "                }\n",
    "                filtered_episodes.append(episode_data)\n",
    "    # Convert the filtered episodes to tensors\n",
    "    filtered_episodes_tensor = {\n",
    "        'mean': torch.stack([ep['mean'] for ep in filtered_episodes]),\n",
    "        'var': torch.stack([ep['var'] for ep in filtered_episodes]),\n",
    "        'state_vars': torch.stack([ep['state_vars'] for ep in filtered_episodes]),\n",
    "        'action': torch.stack([ep['action'] for ep in filtered_episodes]),\n",
    "        'mask': torch.stack([ep['mask'] for ep in filtered_episodes]),\n",
    "        'end_flag': torch.stack([ep['end_flag'] for ep in filtered_episodes])\n",
    "    } # shape of every tensor: [n_episodes, batch_size, dim_latent_z]\n",
    "    n_episodes = filtered_episodes_tensor['mean'].shape[0]\n",
    "    batch_size = n_episodes\n",
    "    return n_episodes, filtered_episodes_tensor"
   ]
  },
  {
   "cell_type": "markdown",
   "id": "2e479a37-f6a6-4fa5-9b60-b018d070b423",
   "metadata": {},
   "source": [
    "# Calculating test loss as a function of Lambda"
   ]
  },
  {
   "cell_type": "code",
   "execution_count": 76,
   "id": "c6fbc28f-15a1-47e5-a9dc-c27be7b16232",
   "metadata": {},
   "outputs": [],
   "source": [
    "batch_size = 256\n",
    "n_batches, mean_batches, sigma_batches, state_vars_batches, \\\n",
    "        action_batches, mask_batches, end_flag_batches = \\\n",
    "    train_rnn.load_data(f'data/vae_preprocessed_{dim_latent_z}dimlatent_test_dqn.npz', \n",
    "                                        f'data/vae_rollouts_env_vars_test_dqn.npz', batch_size = batch_size,\n",
    "                       truncate_at_batch=10)"
   ]
  },
  {
   "cell_type": "code",
   "execution_count": 77,
   "id": "991e62f0-8d27-4492-ac1f-6c6dfdec1fac",
   "metadata": {},
   "outputs": [],
   "source": [
    "def get_loss(model):\n",
    "    loss, loss_mdn, loss_ef, loss_sv = 0, 0, 0, 0\n",
    "    with torch.no_grad():\n",
    "        for batch_i in range(n_batches):\n",
    "            hidden = model.init_hidden(batch_size) # Set initial hidden and cell states\n",
    "        \n",
    "            means = mean_batches[batch_i]\n",
    "            sigmas = sigma_batches[batch_i]\n",
    "            actions = action_batches[batch_i]\n",
    "            masks = mask_batches[batch_i][:, 1:]\n",
    "            end_flags = end_flag_batches[batch_i]\n",
    "            state_vars = state_vars_batches[batch_i][:, :-1]\n",
    "            z_values = train_vae.reparameterization(means, sigmas)\n",
    "            inputs = torch.cat([z_values, actions], dim=2)[:, :-1] #(batch_size, n_timesteps, dim_latent_z+1)\n",
    "            targets = torch.cat([z_values, end_flags], dim=2)[:, 1:]\n",
    "            n_timesteps = inputs.shape[1]\n",
    "        \n",
    "            multiplier_ef, lambda_ef, lambda_sv = 1, 1, 1\n",
    "            \n",
    "            (pi, mu, sigma), ef, hidden, y = model(inputs, hidden)\n",
    "            loss_mdn += train_rnn.loss_pred(targets, pi, mu, sigma, masks)\n",
    "            loss_ef += train_rnn.loss_errorflag(targets, ef, masks, multiplier_ef) * lambda_ef\n",
    "            if model.n_state_vars > 0:\n",
    "                loss_sv += train_rnn.loss_statevars(state_vars[:, :, model.state_vars_to_predict],\n",
    "                                         model.get_decoded_state_vars(y), masks) * lambda_sv\n",
    "            else: loss_sv += torch.tensor(0)\n",
    "            loss = loss_mdn + loss_ef + loss_sv\n",
    "        return loss.item()/n_batches, loss_mdn.item()/n_batches, loss_ef.item()/n_batches, loss_sv.item()/n_batches"
   ]
  },
  {
   "cell_type": "code",
   "execution_count": 118,
   "id": "343ba656-899d-40ca-9a35-484801cc1d26",
   "metadata": {},
   "outputs": [
    {
     "name": "stdout",
     "output_type": "stream",
     "text": [
      "0.0; 0.0; 0.0; 0.0; 0.0; 0.0; 0.0; 0.0; 0.0; 0.0; 0.0; 0.0; 0.0; 0.0; 0.0; 0.0; 0.0; 0.0; 0.0; 0.0; 0.0; 0.0; 0.0; 0.0; 0.0; 0.0; 0.0; 0.0; 0.0; 0.0; 0.0; 0.0; 0.0; 0.0; 0.0; 0.0; 0.0; 0.0; 0.0; 0.0; 4.0; 4.0; 4.0; 4.0; 4.0; 4.0; 4.0; 4.0; 4.0; 4.0; 4.0; 4.0; 4.0; 4.0; 4.0; 4.0; 4.0; 4.0; 4.0; 4.0; 8.0; 8.0; 8.0; 8.0; 8.0; 8.0; 8.0; 8.0; 8.0; 8.0; 8.0; 8.0; 8.0; 8.0; 8.0; 8.0; 8.0; 8.0; 8.0; 8.0; 16.0; 16.0; 16.0; 16.0; 16.0; 16.0; 16.0; 16.0; 16.0; 16.0; 16.0; 16.0; 16.0; 16.0; 16.0; 16.0; 16.0; 16.0; 16.0; 16.0; 32.0; 32.0; 32.0; 32.0; 32.0; 32.0; 32.0; 32.0; 32.0; 32.0; 32.0; 32.0; 32.0; 32.0; 32.0; 32.0; 32.0; 32.0; 32.0; 32.0; 64.0; 64.0; 64.0; 64.0; 64.0; 64.0; 64.0; 64.0; 64.0; 64.0; 64.0; 64.0; 64.0; 64.0; 64.0; 64.0; 64.0; 64.0; 64.0; 64.0; "
     ]
    }
   ],
   "source": [
    "calculate_loss_at_batch = 250\n",
    "\n",
    "lambda_svs = [0.0, 4.0, 8.0, 16.0, 32.0, 64.0]\n",
    "losses = [[] for lambda_sv in lambda_svs]\n",
    "for lambda_sv_i, lambda_sv in enumerate(lambda_svs):\n",
    "    for random_index in (range(20, 40) if lambda_sv_i>0 else range(40)):\n",
    "        print(lambda_sv, end=\"; \")\n",
    "        color = plt.cm.get_cmap('viridis')(np.linspace(0, 1, len(lambda_svs)))[lambda_sv_i]\n",
    "        state_vars_to_predict = [9, 10, 11]\n",
    "        detach_gradients = False\n",
    "        use_layernorm = False\n",
    "        truncate_at_batch = 40\n",
    "        n_hidden = 128\n",
    "        train_epochs = 250\n",
    "        save_every_epochs = 50\n",
    "        max_gradient_norm = 100.0\n",
    "        lr = 0.001\n",
    "        random_index = random_index\n",
    "        lambda_sv = lambda_sv\n",
    "        dim_latent_z = 8\n",
    "        #if lambda_sv == 0: state_vars_to_predict = []\n",
    "        \n",
    "        sv_str = 'x'.join([str(x) for x in state_vars_to_predict]) if len(state_vars_to_predict)>0 else 'X'\n",
    "        rnn_id = f\"_ln{1 if use_layernorm else 0}_nh{n_hidden}_dlz{dim_latent_z}_mgn{max_gradient_norm}_lr{lr}\" + \\\n",
    "                 f\"_dg{1 if detach_gradients else 0}_da{truncate_at_batch}_sv{sv_str}_lsv{lambda_sv}_r{random_index}\"\n",
    "\n",
    "        last_epoch = 0\n",
    "        for file in os.listdir(f\"data/rnn{rnn_id}/\"):\n",
    "            if file.startswith(\"rnn_model_epoch\") and file.endswith(\".pt\"):\n",
    "                epoch_num = int(file.split(\"epoch\")[1].split(\".\")[0])\n",
    "                if epoch_num > last_epoch:\n",
    "                    last_epoch = epoch_num\n",
    "        if last_epoch < calculate_loss_at_batch: continue\n",
    "\n",
    "        rnn_model = rnn.MDNRNN(dim_latent_z, state_vars_to_predict=state_vars_to_predict, use_layernorm=use_layernorm).to(config.device)\n",
    "        rnn_model.load_state_dict(torch.load(f'data/rnn{rnn_id}/rnn_model_epoch{calculate_loss_at_batch}.pt', map_location=config.device))\n",
    "        n_gaussians = rnn_model.n_gaussians\n",
    "\n",
    "        losses[lambda_sv_i].append(get_loss(rnn_model)[1])"
   ]
  },
  {
   "cell_type": "code",
   "execution_count": 121,
   "id": "405628f2-bea6-4421-bf37-a029ad615075",
   "metadata": {},
   "outputs": [
    {
     "data": {
      "image/png": "[encoded data removed]",
      "text/plain": [
       "<Figure size 288x216 with 1 Axes>"
      ]
     },
     "metadata": {
      "needs_background": "light"
     },
     "output_type": "display_data"
    }
   ],
   "source": [
    "import matplotlib.pyplot as plt\n",
    "import numpy as np\n",
    "\n",
    "means = np.array([np.nanmean(loss) for loss in losses])\n",
    "stds = np.array([np.nanstd(loss) for loss in losses])\n",
    "\n",
    "lambda_svs_for_plot = [int(x) for x in lambda_svs]\n",
    "lambda_svs_for_plot[0] = 1\n",
    "\n",
    "plt.rcParams.update({'font.family': 'Arial', 'font.size': 16})\n",
    "plt.figure(figsize=(4, 3))\n",
    "plt.errorbar(lambda_svs_for_plot, means, yerr=stds, fmt='o-', capsize=7, linewidth=4, markersize=10, color=\"black\")\n",
    "plt.xlabel('lambda')\n",
    "plt.xscale('log')\n",
    "plt.ylabel(f'next state prediction loss')\n",
    "#plt.title(f'epoch {calculate_loss_at_batch}')\n",
    "plt.xticks(lambda_svs_for_plot, [int(x) for x in lambda_svs])\n",
    "plt.grid(True)\n",
    "plt.show()"
   ]
  },
  {
   "cell_type": "code",
   "execution_count": null,
   "id": "6ef0778f-9a48-4c92-87c9-02f4a2606df3",
   "metadata": {},
   "outputs": [],
   "source": []
  }
 ],
 "metadata": {
  "kernelspec": {
   "display_name": "Python 3 (ipykernel)",
   "language": "python",
   "name": "python3"
  },
  "language_info": {
   "codemirror_mode": {
    "name": "ipython",
    "version": 3
   },
   "file_extension": ".py",
   "mimetype": "text/x-python",
   "name": "python",
   "nbconvert_exporter": "python",
   "pygments_lexer": "ipython3",
   "version": "3.9.7"
  }
 },
 "nbformat": 4,
 "nbformat_minor": 5
}
